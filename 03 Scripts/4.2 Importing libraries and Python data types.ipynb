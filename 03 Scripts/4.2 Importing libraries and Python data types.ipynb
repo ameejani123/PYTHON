{
 "cells": [
  {
   "cell_type": "markdown",
   "id": "d34ddb8a-8361-49e0-8481-ff73dbe906e8",
   "metadata": {},
   "source": [
    "# 01 Importing Libraries\n",
    "import pandas as pd\r\n",
    "import numpy as np\r\n",
    "import os\r\n"
   ]
  },
  {
   "cell_type": "code",
   "execution_count": 1,
   "id": "0a966e89-f0a0-410f-a3a5-9cdf848adeb4",
   "metadata": {},
   "outputs": [],
   "source": [
    "import pandas as pd"
   ]
  },
  {
   "cell_type": "code",
   "execution_count": 2,
   "id": "4654c9f3-c93e-45f4-9718-b430eb85ed90",
   "metadata": {},
   "outputs": [],
   "source": [
    "import numpy as np"
   ]
  },
  {
   "cell_type": "code",
   "execution_count": 3,
   "id": "7c9edc33-c2cc-4dc1-94de-37f6510d4dd4",
   "metadata": {},
   "outputs": [],
   "source": [
    "import os "
   ]
  },
  {
   "cell_type": "code",
   "execution_count": 15,
   "id": "282ba8b5-d29c-4f96-8e80-094c933fe646",
   "metadata": {},
   "outputs": [],
   "source": [
    "x = 2"
   ]
  },
  {
   "cell_type": "code",
   "execution_count": 17,
   "id": "c882f2c5-8364-4e51-be51-42fb8e62acfe",
   "metadata": {},
   "outputs": [
    {
     "data": {
      "text/plain": [
       "2"
      ]
     },
     "execution_count": 17,
     "metadata": {},
     "output_type": "execute_result"
    }
   ],
   "source": [
    "x"
   ]
  },
  {
   "cell_type": "code",
   "execution_count": 16,
   "id": "17f833ce-fa43-4d21-ac4b-956cfd81222a",
   "metadata": {},
   "outputs": [
    {
     "name": "stdout",
     "output_type": "stream",
     "text": [
      "2\n"
     ]
    }
   ],
   "source": [
    "print(x)"
   ]
  },
  {
   "cell_type": "code",
   "execution_count": 18,
   "id": "2fb90d00-6b8c-4361-a8ab-78eac56cbbea",
   "metadata": {},
   "outputs": [
    {
     "data": {
      "text/plain": [
       "int"
      ]
     },
     "execution_count": 18,
     "metadata": {},
     "output_type": "execute_result"
    }
   ],
   "source": [
    "type (x)"
   ]
  },
  {
   "cell_type": "code",
   "execution_count": 33,
   "id": "3293e290-f65f-4c40-9133-dcabb270a222",
   "metadata": {},
   "outputs": [],
   "source": [
    "y = 5.678"
   ]
  },
  {
   "cell_type": "code",
   "execution_count": 34,
   "id": "73e91da3-c39b-4436-a065-22a3d62365b0",
   "metadata": {},
   "outputs": [
    {
     "data": {
      "text/plain": [
       "5.678"
      ]
     },
     "execution_count": 34,
     "metadata": {},
     "output_type": "execute_result"
    }
   ],
   "source": [
    "y"
   ]
  },
  {
   "cell_type": "code",
   "execution_count": 35,
   "id": "1c775bf1-90dc-45bb-ac34-328edacdbae1",
   "metadata": {},
   "outputs": [
    {
     "name": "stdout",
     "output_type": "stream",
     "text": [
      "5.678\n"
     ]
    }
   ],
   "source": [
    "print(y)"
   ]
  },
  {
   "cell_type": "code",
   "execution_count": 36,
   "id": "6db212f4-2d90-4157-8f5f-b1b6a80301b6",
   "metadata": {},
   "outputs": [
    {
     "data": {
      "text/plain": [
       "float"
      ]
     },
     "execution_count": 36,
     "metadata": {},
     "output_type": "execute_result"
    }
   ],
   "source": [
    "type(y)"
   ]
  },
  {
   "cell_type": "code",
   "execution_count": 40,
   "id": "41e0db5f-0ed8-475b-adbb-e7eb0b6808c1",
   "metadata": {
    "scrolled": true
   },
   "outputs": [],
   "source": [
    "z = 'Brazil' "
   ]
  },
  {
   "cell_type": "code",
   "execution_count": 41,
   "id": "5ba5b95c-bcba-4dc2-b792-ea1dbaf90434",
   "metadata": {},
   "outputs": [
    {
     "data": {
      "text/plain": [
       "str"
      ]
     },
     "execution_count": 41,
     "metadata": {},
     "output_type": "execute_result"
    }
   ],
   "source": [
    "type(z)"
   ]
  },
  {
   "cell_type": "code",
   "execution_count": 43,
   "id": "d46e2866-1199-4467-bf80-e2fdaf3eddb0",
   "metadata": {},
   "outputs": [
    {
     "data": {
      "text/plain": [
       "bool"
      ]
     },
     "execution_count": 43,
     "metadata": {},
     "output_type": "execute_result"
    }
   ],
   "source": [
    "type(True)"
   ]
  },
  {
   "cell_type": "code",
   "execution_count": 44,
   "id": "de888c1e-51fe-44d1-a9f6-50f2fa55b7a0",
   "metadata": {},
   "outputs": [
    {
     "data": {
      "text/plain": [
       "bool"
      ]
     },
     "execution_count": 44,
     "metadata": {},
     "output_type": "execute_result"
    }
   ],
   "source": [
    "type (False)"
   ]
  },
  {
   "cell_type": "code",
   "execution_count": 45,
   "id": "5742b7b0-8cd8-446e-944f-a8bdaff5401f",
   "metadata": {},
   "outputs": [
    {
     "name": "stdout",
     "output_type": "stream",
     "text": [
      "2\n"
     ]
    }
   ],
   "source": [
    "print(x)"
   ]
  },
  {
   "cell_type": "code",
   "execution_count": 46,
   "id": "8aea106a-20af-4955-b040-01f131fff9bc",
   "metadata": {},
   "outputs": [
    {
     "data": {
      "text/plain": [
       "6"
      ]
     },
     "execution_count": 46,
     "metadata": {},
     "output_type": "execute_result"
    }
   ],
   "source": [
    "x+4"
   ]
  },
  {
   "cell_type": "code",
   "execution_count": 54,
   "id": "3029392d-3051-4cec-ad19-2145893c3781",
   "metadata": {},
   "outputs": [],
   "source": [
    "x=x+4"
   ]
  },
  {
   "cell_type": "code",
   "execution_count": 55,
   "id": "7a8e8681-406c-4b85-8a28-7afca41a3ef6",
   "metadata": {},
   "outputs": [
    {
     "name": "stdout",
     "output_type": "stream",
     "text": [
      "22\n"
     ]
    }
   ],
   "source": [
    "print(x)"
   ]
  },
  {
   "cell_type": "code",
   "execution_count": 61,
   "id": "3b9f00c6-ea4d-488a-be2a-06e3a9f999d3",
   "metadata": {},
   "outputs": [],
   "source": [
    "a='Hello,'"
   ]
  },
  {
   "cell_type": "code",
   "execution_count": 57,
   "id": "7abe852d-1226-48c1-82a7-3ad5d81da2f3",
   "metadata": {},
   "outputs": [],
   "source": [
    "b='Marley'"
   ]
  },
  {
   "cell_type": "code",
   "execution_count": 62,
   "id": "343aa39c-4813-4b3f-a223-a92c47fc2426",
   "metadata": {},
   "outputs": [
    {
     "data": {
      "text/plain": [
       "'Hello,Marley'"
      ]
     },
     "execution_count": 62,
     "metadata": {},
     "output_type": "execute_result"
    }
   ],
   "source": [
    "a + b"
   ]
  },
  {
   "cell_type": "code",
   "execution_count": 47,
   "id": "a8e5483b-4c2e-4154-97d3-370cd28fc32c",
   "metadata": {},
   "outputs": [
    {
     "data": {
      "text/plain": [
       "7.678"
      ]
     },
     "execution_count": 47,
     "metadata": {},
     "output_type": "execute_result"
    }
   ],
   "source": [
    "x+y"
   ]
  },
  {
   "cell_type": "code",
   "execution_count": 63,
   "id": "000d274f-bac4-4054-b673-ee2a7928026b",
   "metadata": {},
   "outputs": [
    {
     "data": {
      "text/plain": [
       "False"
      ]
     },
     "execution_count": 63,
     "metadata": {},
     "output_type": "execute_result"
    }
   ],
   "source": [
    "x == y "
   ]
  },
  {
   "cell_type": "code",
   "execution_count": 64,
   "id": "81db939a-3574-4886-9cc2-55fda1a636e0",
   "metadata": {},
   "outputs": [
    {
     "data": {
      "text/plain": [
       "bool"
      ]
     },
     "execution_count": 64,
     "metadata": {},
     "output_type": "execute_result"
    }
   ],
   "source": [
    "type (x == y)"
   ]
  },
  {
   "cell_type": "code",
   "execution_count": null,
   "id": "a09abf37-154c-4896-aa89-d6b34ad33838",
   "metadata": {},
   "outputs": [],
   "source": [
    "#working with python data types (task)"
   ]
  },
  {
   "cell_type": "code",
   "execution_count": 65,
   "id": "9bdebf0a-5370-4cc3-bbd2-158eb34c5001",
   "metadata": {},
   "outputs": [],
   "source": [
    "x = 45"
   ]
  },
  {
   "cell_type": "code",
   "execution_count": 66,
   "id": "ced359f5-6cda-4ad6-9ae0-9bab1d163dc9",
   "metadata": {},
   "outputs": [],
   "source": [
    "y=55"
   ]
  },
  {
   "cell_type": "code",
   "execution_count": 67,
   "id": "f6e1c195-4cab-4906-a745-cbc1bd93f797",
   "metadata": {},
   "outputs": [
    {
     "name": "stdout",
     "output_type": "stream",
     "text": [
      "100\n"
     ]
    }
   ],
   "source": [
    "print(x+y)"
   ]
  },
  {
   "cell_type": "code",
   "execution_count": 68,
   "id": "6e3afb84-1826-4fba-8df3-ca23ef3794ed",
   "metadata": {},
   "outputs": [],
   "source": [
    "b=120"
   ]
  },
  {
   "cell_type": "code",
   "execution_count": 69,
   "id": "ef005dce-1d74-42cc-9c59-9787f6481806",
   "metadata": {},
   "outputs": [],
   "source": [
    "c=20"
   ]
  },
  {
   "cell_type": "code",
   "execution_count": 70,
   "id": "f066c415-1ed0-45e3-890d-fc46e9e95143",
   "metadata": {},
   "outputs": [
    {
     "name": "stdout",
     "output_type": "stream",
     "text": [
      "100\n"
     ]
    }
   ],
   "source": [
    "print(b-c)"
   ]
  },
  {
   "cell_type": "code",
   "execution_count": 71,
   "id": "dff07802-20e8-4ff7-8e59-eeb9af3ecfdb",
   "metadata": {},
   "outputs": [],
   "source": [
    "z =70"
   ]
  },
  {
   "cell_type": "code",
   "execution_count": 72,
   "id": "3b784512-f373-45fa-b812-fb8d7a9aeaed",
   "metadata": {},
   "outputs": [],
   "source": [
    "p=10"
   ]
  },
  {
   "cell_type": "code",
   "execution_count": 73,
   "id": "ee2c0339-51fe-4dd5-8c57-e7d3bd877d1f",
   "metadata": {},
   "outputs": [
    {
     "name": "stdout",
     "output_type": "stream",
     "text": [
      "100\n"
     ]
    }
   ],
   "source": [
    "print (z+p+c)"
   ]
  },
  {
   "cell_type": "code",
   "execution_count": 74,
   "id": "02b5216a-57d7-4872-9f06-60feb0e117c7",
   "metadata": {},
   "outputs": [],
   "source": [
    "e = 5.5"
   ]
  },
  {
   "cell_type": "code",
   "execution_count": 82,
   "id": "5ff1a158-e4fd-4bf2-a905-bc432040cae5",
   "metadata": {},
   "outputs": [
    {
     "data": {
      "text/plain": [
       "float"
      ]
     },
     "execution_count": 82,
     "metadata": {},
     "output_type": "execute_result"
    }
   ],
   "source": [
    "type(e)"
   ]
  },
  {
   "cell_type": "code",
   "execution_count": 75,
   "id": "394210d3-0e0c-4b92-8b3e-2bdf0d9b1525",
   "metadata": {},
   "outputs": [],
   "source": [
    "f= 3.5"
   ]
  },
  {
   "cell_type": "code",
   "execution_count": 83,
   "id": "39bf9550-1fb4-44c4-a33e-b5472f11bdfe",
   "metadata": {},
   "outputs": [
    {
     "data": {
      "text/plain": [
       "float"
      ]
     },
     "execution_count": 83,
     "metadata": {},
     "output_type": "execute_result"
    }
   ],
   "source": [
    "type(f)"
   ]
  },
  {
   "cell_type": "code",
   "execution_count": 76,
   "id": "410ca33a-385f-4d42-80ac-ebe022eb6a2d",
   "metadata": {},
   "outputs": [
    {
     "name": "stdout",
     "output_type": "stream",
     "text": [
      "1.5714285714285714\n"
     ]
    }
   ],
   "source": [
    "print (e/f)"
   ]
  },
  {
   "cell_type": "code",
   "execution_count": 77,
   "id": "6f1781d0-8aab-4352-b6d9-7f547405dbcd",
   "metadata": {},
   "outputs": [],
   "source": [
    "g = 15.85"
   ]
  },
  {
   "cell_type": "code",
   "execution_count": 78,
   "id": "ed04fff4-3b3b-4432-a88a-3c8ebc6bdfc5",
   "metadata": {},
   "outputs": [],
   "source": [
    "h= 6.55"
   ]
  },
  {
   "cell_type": "code",
   "execution_count": 81,
   "id": "5cb2a66b-656b-4694-af22-245b573b94d1",
   "metadata": {},
   "outputs": [
    {
     "data": {
      "text/plain": [
       "float"
      ]
     },
     "execution_count": 81,
     "metadata": {},
     "output_type": "execute_result"
    }
   ],
   "source": [
    "type(h)"
   ]
  },
  {
   "cell_type": "code",
   "execution_count": 80,
   "id": "42318834-589b-4a87-8391-9f1ecfc8c0f4",
   "metadata": {},
   "outputs": [
    {
     "data": {
      "text/plain": [
       "float"
      ]
     },
     "execution_count": 80,
     "metadata": {},
     "output_type": "execute_result"
    }
   ],
   "source": [
    "type (g)"
   ]
  },
  {
   "cell_type": "code",
   "execution_count": 79,
   "id": "970954b7-f43d-4a6b-a1dd-0a59f64b8d22",
   "metadata": {},
   "outputs": [
    {
     "name": "stdout",
     "output_type": "stream",
     "text": [
      "2.4198473282442747\n"
     ]
    }
   ],
   "source": [
    "print(g/h)"
   ]
  },
  {
   "cell_type": "code",
   "execution_count": 84,
   "id": "49d2796b-2d51-4590-9e0d-e96bf219d67f",
   "metadata": {},
   "outputs": [],
   "source": [
    "i= 'Hello,'"
   ]
  },
  {
   "cell_type": "code",
   "execution_count": 85,
   "id": "b3cf38e9-e699-4f76-a361-91623ae75ea7",
   "metadata": {},
   "outputs": [],
   "source": [
    "j= 'Good,'"
   ]
  },
  {
   "cell_type": "code",
   "execution_count": 92,
   "id": "bfc99352-e561-42fa-9efc-6cd94de987a9",
   "metadata": {},
   "outputs": [],
   "source": [
    "k= 'Morning,'"
   ]
  },
  {
   "cell_type": "code",
   "execution_count": 93,
   "id": "70b24e4f-8515-4cac-812c-6ac92f1458f4",
   "metadata": {},
   "outputs": [
    {
     "name": "stdout",
     "output_type": "stream",
     "text": [
      "Hello,Good,Morning,\n"
     ]
    }
   ],
   "source": [
    "print (i+j+k)"
   ]
  },
  {
   "cell_type": "code",
   "execution_count": 95,
   "id": "738eab69-810c-46aa-b693-001c73d6b052",
   "metadata": {},
   "outputs": [],
   "source": [
    "l= 'how are you today..?'"
   ]
  },
  {
   "cell_type": "code",
   "execution_count": 96,
   "id": "3a36e42c-561c-4504-be87-38401e6e3a44",
   "metadata": {},
   "outputs": [
    {
     "name": "stdout",
     "output_type": "stream",
     "text": [
      "Hello,Good,Morning,how are you today..?\n"
     ]
    }
   ],
   "source": [
    "print(i+j+k+l)"
   ]
  },
  {
   "cell_type": "code",
   "execution_count": 101,
   "id": "86fa2071-6354-49e4-b7ed-d0bf3217556e",
   "metadata": {},
   "outputs": [],
   "source": [
    "o= 'I am fine,'"
   ]
  },
  {
   "cell_type": "code",
   "execution_count": 99,
   "id": "f6c57248-2e33-4865-9993-6fd06be64017",
   "metadata": {},
   "outputs": [],
   "source": [
    "p= 'Thank You..!'"
   ]
  },
  {
   "cell_type": "code",
   "execution_count": 102,
   "id": "5bedee41-9dc7-4bd9-96e7-3822e31e191e",
   "metadata": {},
   "outputs": [
    {
     "name": "stdout",
     "output_type": "stream",
     "text": [
      "Hello,Good,Morning,how are you today..?I am fine,Thank You..!\n"
     ]
    }
   ],
   "source": [
    "print (i+j+k+l+o+p)"
   ]
  },
  {
   "cell_type": "code",
   "execution_count": null,
   "id": "d068fafd-3ce5-485c-884a-8ba2c66cd826",
   "metadata": {},
   "outputs": [],
   "source": []
  }
 ],
 "metadata": {
  "kernelspec": {
   "display_name": "Python 3 (ipykernel)",
   "language": "python",
   "name": "python3"
  },
  "language_info": {
   "codemirror_mode": {
    "name": "ipython",
    "version": 3
   },
   "file_extension": ".py",
   "mimetype": "text/x-python",
   "name": "python",
   "nbconvert_exporter": "python",
   "pygments_lexer": "ipython3",
   "version": "3.11.7"
  }
 },
 "nbformat": 4,
 "nbformat_minor": 5
}
